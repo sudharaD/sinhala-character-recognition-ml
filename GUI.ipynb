{
 "cells": [
  {
   "cell_type": "code",
   "execution_count": 25,
   "id": "0fbaafc0-43d4-4d38-a429-d26246911591",
   "metadata": {},
   "outputs": [],
   "source": [
    "import tkinter as tk\n",
    "from PIL import ImageTk, Image, ImageDraw"
   ]
  },
  {
   "cell_type": "code",
   "execution_count": 24,
   "id": "5b8efb95-107b-49c7-ba78-67ed7ab4f7ed",
   "metadata": {},
   "outputs": [],
   "source": [
    "win = tk.Tk()\n",
    "\n",
    "width = 500\n",
    "height = 500\n",
    "font_btn = 'Helvetica 20 bold'\n",
    "font_lbl = 'Helvetica 25 bold'\n",
    "\n",
    "# Letter drawing function\n",
    "def event_function(event):\n",
    "    x = event.x\n",
    "    y = event.y\n",
    "\n",
    "    x1, x2 = x-30, x+30\n",
    "    y1, y2 = y-30, y+30\n",
    "\n",
    "    # Draw the oval when curser moving\n",
    "    canvas.create_oval((x1, y1, x2, y2), fill='black')\n",
    "\n",
    "    img_draw.ellipse((x1, y1, x2, y2), fill='black')\n",
    "\n",
    "# Create a canvas and position it within the window\n",
    "canvas = tk.Canvas(win, width=width, height=height, bg='white')\n",
    "canvas.grid(row=0, column=0, columnspan=4)\n",
    "\n",
    "# Creates the buttons and position them within the window\n",
    "btn_save = tk.Button(win, text='SAVE', bg='green', fg='white', font=font_btn)\n",
    "btn_save.grid(row=1, column=0)\n",
    "\n",
    "btn_save = tk.Button(win, text='PREDICT', bg='blue', fg='white', font=font_btn)\n",
    "btn_save.grid(row=1, column=1)\n",
    "\n",
    "btn_save = tk.Button(win, text='CLEAR', bg='yellow', fg='white', font=font_btn)\n",
    "btn_save.grid(row=1, column=2)\n",
    "\n",
    "btn_save = tk.Button(win, text='EXIT', bg='red', fg='white', font=font_btn)\n",
    "btn_save.grid(row=1, column=3)\n",
    "\n",
    "# Create a label and position it within the window\n",
    "lbl_status = tk.Label(win, text='PREDICTED CHARACTER: NONE', bg='white', font=font_lbl)\n",
    "lbl_status.grid(row=2, column=0, columnspan=4)\n",
    "\n",
    "# Bind the event with the canvas\n",
    "canvas.bind('<B1-Motion>', event_function)\n",
    "\n",
    "img = Image.new('RGB', (width, heigth), (255,255,255))\n",
    "img_draw = ImageDraw.Draw(img)\n",
    "\n",
    "win.mainloop()"
   ]
  },
  {
   "cell_type": "code",
   "execution_count": null,
   "id": "70b0562d-2879-4a00-8705-87b865e8c155",
   "metadata": {},
   "outputs": [],
   "source": []
  }
 ],
 "metadata": {
  "kernelspec": {
   "display_name": "Python 3 (ipykernel)",
   "language": "python",
   "name": "python3"
  },
  "language_info": {
   "codemirror_mode": {
    "name": "ipython",
    "version": 3
   },
   "file_extension": ".py",
   "mimetype": "text/x-python",
   "name": "python",
   "nbconvert_exporter": "python",
   "pygments_lexer": "ipython3",
   "version": "3.12.0"
  }
 },
 "nbformat": 4,
 "nbformat_minor": 5
}
