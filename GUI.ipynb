{
 "cells": [
  {
   "cell_type": "code",
   "execution_count": 2,
   "id": "0fbaafc0-43d4-4d38-a429-d26246911591",
   "metadata": {},
   "outputs": [],
   "source": [
    "import tkinter as tk"
   ]
  },
  {
   "cell_type": "code",
   "execution_count": 7,
   "id": "5b8efb95-107b-49c7-ba78-67ed7ab4f7ed",
   "metadata": {},
   "outputs": [],
   "source": [
    "win = tk.Tk()\n",
    "\n",
    "width = 500\n",
    "height = 500\n",
    "font_btn = 'Helvetica 20 bold'\n",
    "\n",
    "# Creating and placing the canvas to window\n",
    "canvas = tk.Canvas(win, width=width, height=height, bg='white')\n",
    "canvas.grid(row=0, column=0)\n",
    "\n",
    "# Creating & placing the save button\n",
    "btn_save = tk.Button(win, text='Save', bg='green', fg='white', font=font_btn)\n",
    "btn_save.grid(row=1, column=0)\n",
    "\n",
    "win.mainloop()"
   ]
  },
  {
   "cell_type": "code",
   "execution_count": null,
   "id": "70b0562d-2879-4a00-8705-87b865e8c155",
   "metadata": {},
   "outputs": [],
   "source": []
  }
 ],
 "metadata": {
  "kernelspec": {
   "display_name": "Python 3 (ipykernel)",
   "language": "python",
   "name": "python3"
  },
  "language_info": {
   "codemirror_mode": {
    "name": "ipython",
    "version": 3
   },
   "file_extension": ".py",
   "mimetype": "text/x-python",
   "name": "python",
   "nbconvert_exporter": "python",
   "pygments_lexer": "ipython3",
   "version": "3.12.0"
  }
 },
 "nbformat": 4,
 "nbformat_minor": 5
}
